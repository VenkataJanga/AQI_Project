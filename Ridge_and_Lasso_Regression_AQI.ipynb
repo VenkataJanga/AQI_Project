{
  "nbformat": 4,
  "nbformat_minor": 0,
  "metadata": {
    "colab": {
      "name": "Ridge and Lasso Regression_AQI.ipynb",
      "provenance": [],
      "collapsed_sections": [],
      "toc_visible": true,
      "include_colab_link": true
    },
    "kernelspec": {
      "name": "python3",
      "display_name": "Python 3"
    }
  },
  "cells": [
    {
      "cell_type": "markdown",
      "metadata": {
        "id": "view-in-github",
        "colab_type": "text"
      },
      "source": [
        "<a href=\"https://colab.research.google.com/github/VenkataJanga/AQI_Project/blob/master/Ridge_and_Lasso_Regression_AQI.ipynb\" target=\"_parent\"><img src=\"https://colab.research.google.com/assets/colab-badge.svg\" alt=\"Open In Colab\"/></a>"
      ]
    },
    {
      "cell_type": "markdown",
      "metadata": {
        "id": "mMRsxOmYSVFv",
        "colab_type": "text"
      },
      "source": [
        "# Lasso Regression"
      ]
    },
    {
      "cell_type": "markdown",
      "metadata": {
        "id": "YLVO2KVwS5cZ",
        "colab_type": "text"
      },
      "source": [
        "## Load the libraries"
      ]
    },
    {
      "cell_type": "code",
      "metadata": {
        "id": "4j8KYiY9SZKC",
        "colab_type": "code",
        "colab": {}
      },
      "source": [
        "import numpy as np  #used for algebra calculations\n",
        "import pandas as pd #  used for preprocessig - data load,  analysis and manipulations\n",
        "from matplotlib import pyplot as plt # used for visualization\n",
        "import seaborn as sns #used for statistical visualizationn\n",
        "from sklearn.metrics import mean_absolute_error,mean_squared_error\n",
        "from sklearn.linear_model import LinearRegression,Ridge,Lasso\n",
        "from sklearn.model_selection import train_test_split"
      ],
      "execution_count": 0,
      "outputs": []
    },
    {
      "cell_type": "code",
      "metadata": {
        "id": "AZTrIyyqTHs5",
        "colab_type": "code",
        "colab": {
          "base_uri": "https://localhost:8080/",
          "height": 54
        },
        "outputId": "f8be8389-429b-4504-c615-8dc7c4822b8e"
      },
      "source": [
        "from google.colab import drive\n",
        "drive.mount(\"/content/drive\")"
      ],
      "execution_count": 17,
      "outputs": [
        {
          "output_type": "stream",
          "text": [
            "Drive already mounted at /content/drive; to attempt to forcibly remount, call drive.mount(\"/content/drive\", force_remount=True).\n"
          ],
          "name": "stdout"
        }
      ]
    },
    {
      "cell_type": "code",
      "metadata": {
        "id": "BQrlcPm8TahD",
        "colab_type": "code",
        "colab": {}
      },
      "source": [
        "data = pd.read_csv(\"/content/drive/My Drive/ML_Dataset/Real_Combine.csv\")"
      ],
      "execution_count": 0,
      "outputs": []
    },
    {
      "cell_type": "code",
      "metadata": {
        "id": "Rz0DELH4T2r9",
        "colab_type": "code",
        "colab": {
          "base_uri": "https://localhost:8080/",
          "height": 195
        },
        "outputId": "861b26e5-772c-4078-decd-fce2936cb6ca"
      },
      "source": [
        "data.head()"
      ],
      "execution_count": 19,
      "outputs": [
        {
          "output_type": "execute_result",
          "data": {
            "text/html": [
              "<div>\n",
              "<style scoped>\n",
              "    .dataframe tbody tr th:only-of-type {\n",
              "        vertical-align: middle;\n",
              "    }\n",
              "\n",
              "    .dataframe tbody tr th {\n",
              "        vertical-align: top;\n",
              "    }\n",
              "\n",
              "    .dataframe thead th {\n",
              "        text-align: right;\n",
              "    }\n",
              "</style>\n",
              "<table border=\"1\" class=\"dataframe\">\n",
              "  <thead>\n",
              "    <tr style=\"text-align: right;\">\n",
              "      <th></th>\n",
              "      <th>T</th>\n",
              "      <th>TM</th>\n",
              "      <th>Tm</th>\n",
              "      <th>SLP</th>\n",
              "      <th>H</th>\n",
              "      <th>VV</th>\n",
              "      <th>V</th>\n",
              "      <th>VM</th>\n",
              "      <th>PM 2.5</th>\n",
              "    </tr>\n",
              "  </thead>\n",
              "  <tbody>\n",
              "    <tr>\n",
              "      <th>0</th>\n",
              "      <td>7.4</td>\n",
              "      <td>9.8</td>\n",
              "      <td>4.8</td>\n",
              "      <td>1017.6</td>\n",
              "      <td>93.0</td>\n",
              "      <td>0.5</td>\n",
              "      <td>4.3</td>\n",
              "      <td>9.4</td>\n",
              "      <td>219.720833</td>\n",
              "    </tr>\n",
              "    <tr>\n",
              "      <th>1</th>\n",
              "      <td>7.8</td>\n",
              "      <td>12.7</td>\n",
              "      <td>4.4</td>\n",
              "      <td>1018.5</td>\n",
              "      <td>87.0</td>\n",
              "      <td>0.6</td>\n",
              "      <td>4.4</td>\n",
              "      <td>11.1</td>\n",
              "      <td>182.187500</td>\n",
              "    </tr>\n",
              "    <tr>\n",
              "      <th>2</th>\n",
              "      <td>6.7</td>\n",
              "      <td>13.4</td>\n",
              "      <td>2.4</td>\n",
              "      <td>1019.4</td>\n",
              "      <td>82.0</td>\n",
              "      <td>0.6</td>\n",
              "      <td>4.8</td>\n",
              "      <td>11.1</td>\n",
              "      <td>154.037500</td>\n",
              "    </tr>\n",
              "    <tr>\n",
              "      <th>3</th>\n",
              "      <td>8.6</td>\n",
              "      <td>15.5</td>\n",
              "      <td>3.3</td>\n",
              "      <td>1018.7</td>\n",
              "      <td>72.0</td>\n",
              "      <td>0.8</td>\n",
              "      <td>8.1</td>\n",
              "      <td>20.6</td>\n",
              "      <td>223.208333</td>\n",
              "    </tr>\n",
              "    <tr>\n",
              "      <th>4</th>\n",
              "      <td>12.4</td>\n",
              "      <td>20.9</td>\n",
              "      <td>4.4</td>\n",
              "      <td>1017.3</td>\n",
              "      <td>61.0</td>\n",
              "      <td>1.3</td>\n",
              "      <td>8.7</td>\n",
              "      <td>22.2</td>\n",
              "      <td>200.645833</td>\n",
              "    </tr>\n",
              "  </tbody>\n",
              "</table>\n",
              "</div>"
            ],
            "text/plain": [
              "      T    TM   Tm     SLP     H   VV    V    VM      PM 2.5\n",
              "0   7.4   9.8  4.8  1017.6  93.0  0.5  4.3   9.4  219.720833\n",
              "1   7.8  12.7  4.4  1018.5  87.0  0.6  4.4  11.1  182.187500\n",
              "2   6.7  13.4  2.4  1019.4  82.0  0.6  4.8  11.1  154.037500\n",
              "3   8.6  15.5  3.3  1018.7  72.0  0.8  8.1  20.6  223.208333\n",
              "4  12.4  20.9  4.4  1017.3  61.0  1.3  8.7  22.2  200.645833"
            ]
          },
          "metadata": {
            "tags": []
          },
          "execution_count": 19
        }
      ]
    },
    {
      "cell_type": "code",
      "metadata": {
        "id": "jy7yUQ74gMx_",
        "colab_type": "code",
        "colab": {
          "base_uri": "https://localhost:8080/",
          "height": 185
        },
        "outputId": "60f1cd03-6c79-4e9c-a585-e6a9ae0d6ea6"
      },
      "source": [
        "data.isnull().sum()"
      ],
      "execution_count": 23,
      "outputs": [
        {
          "output_type": "execute_result",
          "data": {
            "text/plain": [
              "T           0\n",
              "TM          0\n",
              "Tm          0\n",
              "SLP         0\n",
              "H           0\n",
              "VV          0\n",
              "V           0\n",
              "VM          0\n",
              "PM 2.5    120\n",
              "dtype: int64"
            ]
          },
          "metadata": {
            "tags": []
          },
          "execution_count": 23
        }
      ]
    },
    {
      "cell_type": "code",
      "metadata": {
        "id": "sdiLTJJrgTwf",
        "colab_type": "code",
        "colab": {}
      },
      "source": [
        "data = data.dropna()"
      ],
      "execution_count": 0,
      "outputs": []
    },
    {
      "cell_type": "code",
      "metadata": {
        "id": "mzxGBBdfgZDF",
        "colab_type": "code",
        "colab": {
          "base_uri": "https://localhost:8080/",
          "height": 185
        },
        "outputId": "38f0bbc6-5d3d-439a-8fb9-7589d521e490"
      },
      "source": [
        "data.isnull().sum()"
      ],
      "execution_count": 25,
      "outputs": [
        {
          "output_type": "execute_result",
          "data": {
            "text/plain": [
              "T         0\n",
              "TM        0\n",
              "Tm        0\n",
              "SLP       0\n",
              "H         0\n",
              "VV        0\n",
              "V         0\n",
              "VM        0\n",
              "PM 2.5    0\n",
              "dtype: int64"
            ]
          },
          "metadata": {
            "tags": []
          },
          "execution_count": 25
        }
      ]
    },
    {
      "cell_type": "code",
      "metadata": {
        "id": "Wh1rsd87T4gV",
        "colab_type": "code",
        "colab": {
          "base_uri": "https://localhost:8080/",
          "height": 330
        },
        "outputId": "a7064f0d-8c6f-463a-b0cb-cc19d530397e"
      },
      "source": [
        "data.corr()"
      ],
      "execution_count": 26,
      "outputs": [
        {
          "output_type": "execute_result",
          "data": {
            "text/html": [
              "<div>\n",
              "<style scoped>\n",
              "    .dataframe tbody tr th:only-of-type {\n",
              "        vertical-align: middle;\n",
              "    }\n",
              "\n",
              "    .dataframe tbody tr th {\n",
              "        vertical-align: top;\n",
              "    }\n",
              "\n",
              "    .dataframe thead th {\n",
              "        text-align: right;\n",
              "    }\n",
              "</style>\n",
              "<table border=\"1\" class=\"dataframe\">\n",
              "  <thead>\n",
              "    <tr style=\"text-align: right;\">\n",
              "      <th></th>\n",
              "      <th>T</th>\n",
              "      <th>TM</th>\n",
              "      <th>Tm</th>\n",
              "      <th>SLP</th>\n",
              "      <th>H</th>\n",
              "      <th>VV</th>\n",
              "      <th>V</th>\n",
              "      <th>VM</th>\n",
              "      <th>PM 2.5</th>\n",
              "    </tr>\n",
              "  </thead>\n",
              "  <tbody>\n",
              "    <tr>\n",
              "      <th>T</th>\n",
              "      <td>1.000000</td>\n",
              "      <td>0.969692</td>\n",
              "      <td>0.960779</td>\n",
              "      <td>-0.883443</td>\n",
              "      <td>-0.546325</td>\n",
              "      <td>0.604547</td>\n",
              "      <td>0.335005</td>\n",
              "      <td>0.289445</td>\n",
              "      <td>-0.628191</td>\n",
              "    </tr>\n",
              "    <tr>\n",
              "      <th>TM</th>\n",
              "      <td>0.969692</td>\n",
              "      <td>1.000000</td>\n",
              "      <td>0.902383</td>\n",
              "      <td>-0.833218</td>\n",
              "      <td>-0.620813</td>\n",
              "      <td>0.601281</td>\n",
              "      <td>0.329173</td>\n",
              "      <td>0.301372</td>\n",
              "      <td>-0.579197</td>\n",
              "    </tr>\n",
              "    <tr>\n",
              "      <th>Tm</th>\n",
              "      <td>0.960779</td>\n",
              "      <td>0.902383</td>\n",
              "      <td>1.000000</td>\n",
              "      <td>-0.904784</td>\n",
              "      <td>-0.352953</td>\n",
              "      <td>0.533086</td>\n",
              "      <td>0.323114</td>\n",
              "      <td>0.264225</td>\n",
              "      <td>-0.662904</td>\n",
              "    </tr>\n",
              "    <tr>\n",
              "      <th>SLP</th>\n",
              "      <td>-0.883443</td>\n",
              "      <td>-0.833218</td>\n",
              "      <td>-0.904784</td>\n",
              "      <td>1.000000</td>\n",
              "      <td>0.314829</td>\n",
              "      <td>-0.449144</td>\n",
              "      <td>-0.352967</td>\n",
              "      <td>-0.301980</td>\n",
              "      <td>0.605864</td>\n",
              "    </tr>\n",
              "    <tr>\n",
              "      <th>H</th>\n",
              "      <td>-0.546325</td>\n",
              "      <td>-0.620813</td>\n",
              "      <td>-0.352953</td>\n",
              "      <td>0.314829</td>\n",
              "      <td>1.000000</td>\n",
              "      <td>-0.527889</td>\n",
              "      <td>-0.409985</td>\n",
              "      <td>-0.376790</td>\n",
              "      <td>0.246956</td>\n",
              "    </tr>\n",
              "    <tr>\n",
              "      <th>VV</th>\n",
              "      <td>0.604547</td>\n",
              "      <td>0.601281</td>\n",
              "      <td>0.533086</td>\n",
              "      <td>-0.449144</td>\n",
              "      <td>-0.527889</td>\n",
              "      <td>1.000000</td>\n",
              "      <td>0.425107</td>\n",
              "      <td>0.357665</td>\n",
              "      <td>-0.724094</td>\n",
              "    </tr>\n",
              "    <tr>\n",
              "      <th>V</th>\n",
              "      <td>0.335005</td>\n",
              "      <td>0.329173</td>\n",
              "      <td>0.323114</td>\n",
              "      <td>-0.352967</td>\n",
              "      <td>-0.409985</td>\n",
              "      <td>0.425107</td>\n",
              "      <td>1.000000</td>\n",
              "      <td>0.758676</td>\n",
              "      <td>-0.422522</td>\n",
              "    </tr>\n",
              "    <tr>\n",
              "      <th>VM</th>\n",
              "      <td>0.289445</td>\n",
              "      <td>0.301372</td>\n",
              "      <td>0.264225</td>\n",
              "      <td>-0.301980</td>\n",
              "      <td>-0.376790</td>\n",
              "      <td>0.357665</td>\n",
              "      <td>0.758676</td>\n",
              "      <td>1.000000</td>\n",
              "      <td>-0.353890</td>\n",
              "    </tr>\n",
              "    <tr>\n",
              "      <th>PM 2.5</th>\n",
              "      <td>-0.628191</td>\n",
              "      <td>-0.579197</td>\n",
              "      <td>-0.662904</td>\n",
              "      <td>0.605864</td>\n",
              "      <td>0.246956</td>\n",
              "      <td>-0.724094</td>\n",
              "      <td>-0.422522</td>\n",
              "      <td>-0.353890</td>\n",
              "      <td>1.000000</td>\n",
              "    </tr>\n",
              "  </tbody>\n",
              "</table>\n",
              "</div>"
            ],
            "text/plain": [
              "               T        TM        Tm  ...         V        VM    PM 2.5\n",
              "T       1.000000  0.969692  0.960779  ...  0.335005  0.289445 -0.628191\n",
              "TM      0.969692  1.000000  0.902383  ...  0.329173  0.301372 -0.579197\n",
              "Tm      0.960779  0.902383  1.000000  ...  0.323114  0.264225 -0.662904\n",
              "SLP    -0.883443 -0.833218 -0.904784  ... -0.352967 -0.301980  0.605864\n",
              "H      -0.546325 -0.620813 -0.352953  ... -0.409985 -0.376790  0.246956\n",
              "VV      0.604547  0.601281  0.533086  ...  0.425107  0.357665 -0.724094\n",
              "V       0.335005  0.329173  0.323114  ...  1.000000  0.758676 -0.422522\n",
              "VM      0.289445  0.301372  0.264225  ...  0.758676  1.000000 -0.353890\n",
              "PM 2.5 -0.628191 -0.579197 -0.662904  ... -0.422522 -0.353890  1.000000\n",
              "\n",
              "[9 rows x 9 columns]"
            ]
          },
          "metadata": {
            "tags": []
          },
          "execution_count": 26
        }
      ]
    },
    {
      "cell_type": "code",
      "metadata": {
        "id": "SiOAx6T4gXzy",
        "colab_type": "code",
        "colab": {}
      },
      "source": [
        ""
      ],
      "execution_count": 0,
      "outputs": []
    },
    {
      "cell_type": "code",
      "metadata": {
        "id": "4pnVEVxtgKqM",
        "colab_type": "code",
        "colab": {}
      },
      "source": [
        ""
      ],
      "execution_count": 0,
      "outputs": []
    },
    {
      "cell_type": "code",
      "metadata": {
        "id": "82_4YHcwe_wl",
        "colab_type": "code",
        "colab": {
          "base_uri": "https://localhost:8080/",
          "height": 34
        },
        "outputId": "3f6d10f8-8702-4620-f786-29a9067c43de"
      },
      "source": [
        "# split the independent and dependent features\n",
        "X = data.iloc[:,:-1]\n",
        "y = data.iloc[:,-1]\n",
        "\n",
        "print(X.shape, y.shape)"
      ],
      "execution_count": 27,
      "outputs": [
        {
          "output_type": "stream",
          "text": [
            "(611, 8) (611,)\n"
          ],
          "name": "stdout"
        }
      ]
    },
    {
      "cell_type": "markdown",
      "metadata": {
        "id": "t1Bd_geJeK2O",
        "colab_type": "text"
      },
      "source": [
        "Comparision Linear, Ridge, Lasso Regressions"
      ]
    },
    {
      "cell_type": "markdown",
      "metadata": {
        "id": "peuJ9vAMeU3b",
        "colab_type": "text"
      },
      "source": [
        "# Linear Regression"
      ]
    },
    {
      "cell_type": "code",
      "metadata": {
        "id": "gRds-E2DeYJc",
        "colab_type": "code",
        "colab": {}
      },
      "source": [
        "from sklearn.model_selection import cross_val_score\n",
        "lr_reg_model = LinearRegression()"
      ],
      "execution_count": 0,
      "outputs": []
    },
    {
      "cell_type": "code",
      "metadata": {
        "id": "2axidWtue5o0",
        "colab_type": "code",
        "colab": {
          "base_uri": "https://localhost:8080/",
          "height": 34
        },
        "outputId": "a55a18dc-5297-45ed-df52-93af89b76836"
      },
      "source": [
        "mse = cross_val_score(lr_reg_model, X, y,scoring='neg_mean_squared_error',cv=5)\n",
        "mean_mse = np.mean(mse)\n",
        "print(mean_mse)"
      ],
      "execution_count": 29,
      "outputs": [
        {
          "output_type": "stream",
          "text": [
            "-2444.0945230244206\n"
          ],
          "name": "stdout"
        }
      ]
    },
    {
      "cell_type": "markdown",
      "metadata": {
        "id": "GGEwLMS6gp7T",
        "colab_type": "text"
      },
      "source": [
        "# Ridge Regression"
      ]
    },
    {
      "cell_type": "code",
      "metadata": {
        "id": "HG_nAMeags3W",
        "colab_type": "code",
        "colab": {
          "base_uri": "https://localhost:8080/",
          "height": 238
        },
        "outputId": "caf1bd23-4f92-41db-bd83-8d9df0348fb2"
      },
      "source": [
        "from sklearn.model_selection import GridSearchCV\n",
        "ridge = Ridge()\n",
        "parameters = {\"alpha\":[1e-10,1e-8,1e-6,1e-4,1e-2,1,2,4,6,8,10,15,20,25,30,35,40,45,50,55,100]}\n",
        "ridge_reg_model = GridSearchCV(ridge,parameters,scoring='neg_mean_squared_error',cv=5)\n",
        "ridge_reg_model.fit(X,y)\n"
      ],
      "execution_count": 36,
      "outputs": [
        {
          "output_type": "stream",
          "text": [
            "/usr/local/lib/python3.6/dist-packages/sklearn/model_selection/_search.py:814: DeprecationWarning: The default of the `iid` parameter will change from True to False in version 0.22 and will be removed in 0.24. This will change numeric results when test-set sizes are unequal.\n",
            "  DeprecationWarning)\n"
          ],
          "name": "stderr"
        },
        {
          "output_type": "execute_result",
          "data": {
            "text/plain": [
              "GridSearchCV(cv=5, error_score='raise-deprecating',\n",
              "             estimator=Ridge(alpha=1.0, copy_X=True, fit_intercept=True,\n",
              "                             max_iter=None, normalize=False, random_state=None,\n",
              "                             solver='auto', tol=0.001),\n",
              "             iid='warn', n_jobs=None,\n",
              "             param_grid={'alpha': [1e-10, 1e-08, 1e-06, 0.0001, 0.01, 1, 2, 4,\n",
              "                                   6, 8, 10, 15, 20, 25, 30, 35, 40, 45, 50, 55,\n",
              "                                   100]},\n",
              "             pre_dispatch='2*n_jobs', refit=True, return_train_score=False,\n",
              "             scoring='neg_mean_squared_error', verbose=0)"
            ]
          },
          "metadata": {
            "tags": []
          },
          "execution_count": 36
        }
      ]
    },
    {
      "cell_type": "code",
      "metadata": {
        "id": "o9mqU1S1hXcs",
        "colab_type": "code",
        "colab": {
          "base_uri": "https://localhost:8080/",
          "height": 84
        },
        "outputId": "a87da81c-39cf-44ab-a3c8-ffc5efa80f90"
      },
      "source": [
        "print(ridge_reg_model.best_estimator_)\n",
        "print(ridge_reg_model.best_params_)\n",
        "print(ridge_reg_model.best_score_)"
      ],
      "execution_count": 37,
      "outputs": [
        {
          "output_type": "stream",
          "text": [
            "Ridge(alpha=4, copy_X=True, fit_intercept=True, max_iter=None, normalize=False,\n",
            "      random_state=None, solver='auto', tol=0.001)\n",
            "{'alpha': 4}\n",
            "-2440.5520302543023\n"
          ],
          "name": "stdout"
        }
      ]
    },
    {
      "cell_type": "markdown",
      "metadata": {
        "id": "MPwyJa9aiFHu",
        "colab_type": "text"
      },
      "source": [
        "# Lasso Regression"
      ]
    },
    {
      "cell_type": "code",
      "metadata": {
        "id": "9ORTA-xfiIvd",
        "colab_type": "code",
        "colab": {
          "base_uri": "https://localhost:8080/",
          "height": 558
        },
        "outputId": "a5bae80f-8511-4506-e416-8affb875e159"
      },
      "source": [
        "lasso = Lasso()\n",
        "parameters = {\"alpha\":[1e-10,1e-8,1e-6,1e-4,1e-2,1,2,4,6,8,10,15,20,25,30,35,40,45,50,55,100]}\n",
        "lass_reg_model = GridSearchCV(lasso, parameters,scoring='neg_mean_squared_error',cv=5)\n",
        "lass_reg_model.fit(X,y)"
      ],
      "execution_count": 41,
      "outputs": [
        {
          "output_type": "stream",
          "text": [
            "/usr/local/lib/python3.6/dist-packages/sklearn/linear_model/coordinate_descent.py:475: ConvergenceWarning: Objective did not converge. You might want to increase the number of iterations. Duality gap: 314457.7318176702, tolerance: 366.9741926225949\n",
            "  positive)\n",
            "/usr/local/lib/python3.6/dist-packages/sklearn/linear_model/coordinate_descent.py:475: ConvergenceWarning: Objective did not converge. You might want to increase the number of iterations. Duality gap: 94714.92351903801, tolerance: 320.7234022480686\n",
            "  positive)\n",
            "/usr/local/lib/python3.6/dist-packages/sklearn/linear_model/coordinate_descent.py:475: ConvergenceWarning: Objective did not converge. You might want to increase the number of iterations. Duality gap: 249678.96837346215, tolerance: 359.1211028888321\n",
            "  positive)\n",
            "/usr/local/lib/python3.6/dist-packages/sklearn/linear_model/coordinate_descent.py:475: ConvergenceWarning: Objective did not converge. You might want to increase the number of iterations. Duality gap: 372683.2166873554, tolerance: 366.71868646671203\n",
            "  positive)\n",
            "/usr/local/lib/python3.6/dist-packages/sklearn/linear_model/coordinate_descent.py:475: ConvergenceWarning: Objective did not converge. You might want to increase the number of iterations. Duality gap: 416422.1239672733, tolerance: 288.0021056887639\n",
            "  positive)\n",
            "/usr/local/lib/python3.6/dist-packages/sklearn/linear_model/coordinate_descent.py:475: ConvergenceWarning: Objective did not converge. You might want to increase the number of iterations. Duality gap: 492.7480538082309, tolerance: 366.9741926225949\n",
            "  positive)\n",
            "/usr/local/lib/python3.6/dist-packages/sklearn/linear_model/coordinate_descent.py:475: ConvergenceWarning: Objective did not converge. You might want to increase the number of iterations. Duality gap: 966.6582557226066, tolerance: 366.71868646671203\n",
            "  positive)\n",
            "/usr/local/lib/python3.6/dist-packages/sklearn/linear_model/coordinate_descent.py:475: ConvergenceWarning: Objective did not converge. You might want to increase the number of iterations. Duality gap: 22946.693759784917, tolerance: 288.0021056887639\n",
            "  positive)\n",
            "/usr/local/lib/python3.6/dist-packages/sklearn/model_selection/_search.py:814: DeprecationWarning: The default of the `iid` parameter will change from True to False in version 0.22 and will be removed in 0.24. This will change numeric results when test-set sizes are unequal.\n",
            "  DeprecationWarning)\n",
            "/usr/local/lib/python3.6/dist-packages/sklearn/linear_model/coordinate_descent.py:475: ConvergenceWarning: Objective did not converge. You might want to increase the number of iterations. Duality gap: 422327.76681087713, tolerance: 428.60197243473823\n",
            "  positive)\n"
          ],
          "name": "stderr"
        },
        {
          "output_type": "execute_result",
          "data": {
            "text/plain": [
              "GridSearchCV(cv=5, error_score='raise-deprecating',\n",
              "             estimator=Lasso(alpha=1.0, copy_X=True, fit_intercept=True,\n",
              "                             max_iter=1000, normalize=False, positive=False,\n",
              "                             precompute=False, random_state=None,\n",
              "                             selection='cyclic', tol=0.0001, warm_start=False),\n",
              "             iid='warn', n_jobs=None,\n",
              "             param_grid={'alpha': [1e-10, 1e-08, 1e-06, 0.0001, 0.01, 1, 2, 4,\n",
              "                                   6, 8, 10, 15, 20, 25, 30, 35, 40, 45, 50, 55,\n",
              "                                   100]},\n",
              "             pre_dispatch='2*n_jobs', refit=True, return_train_score=False,\n",
              "             scoring='neg_mean_squared_error', verbose=0)"
            ]
          },
          "metadata": {
            "tags": []
          },
          "execution_count": 41
        }
      ]
    },
    {
      "cell_type": "code",
      "metadata": {
        "id": "DMR6R-YuiLcM",
        "colab_type": "code",
        "colab": {
          "base_uri": "https://localhost:8080/",
          "height": 101
        },
        "outputId": "ccd52548-0508-4e5d-cf41-cc2fb068e5ea"
      },
      "source": [
        "print(lass_reg_model.best_estimator_)\n",
        "print(lass_reg_model.best_params_)\n",
        "print(lass_reg_model.best_score_)"
      ],
      "execution_count": 42,
      "outputs": [
        {
          "output_type": "stream",
          "text": [
            "Lasso(alpha=1e-10, copy_X=True, fit_intercept=True, max_iter=1000,\n",
            "      normalize=False, positive=False, precompute=False, random_state=None,\n",
            "      selection='cyclic', tol=0.0001, warm_start=False)\n",
            "{'alpha': 1e-10}\n",
            "-2442.7793467587744\n"
          ],
          "name": "stdout"
        }
      ]
    },
    {
      "cell_type": "markdown",
      "metadata": {
        "id": "J7ZPlZp8jq8W",
        "colab_type": "text"
      },
      "source": [
        "# Model Evaluation"
      ]
    },
    {
      "cell_type": "code",
      "metadata": {
        "id": "rOPfmAtNjGe_",
        "colab_type": "code",
        "colab": {}
      },
      "source": [
        "X_train,X_test,y_train,y_test = train_test_split(X,y)\n",
        "prediction = lass_reg_model.predict(X_test)"
      ],
      "execution_count": 0,
      "outputs": []
    },
    {
      "cell_type": "code",
      "metadata": {
        "id": "VB3eUFzrj0JI",
        "colab_type": "code",
        "colab": {
          "base_uri": "https://localhost:8080/",
          "height": 296
        },
        "outputId": "e4d814b5-53b3-458c-e911-0c0c4d5e75ec"
      },
      "source": [
        "sns.distplot(y_test - prediction)"
      ],
      "execution_count": 46,
      "outputs": [
        {
          "output_type": "execute_result",
          "data": {
            "text/plain": [
              "<matplotlib.axes._subplots.AxesSubplot at 0x7f5a24a7e7b8>"
            ]
          },
          "metadata": {
            "tags": []
          },
          "execution_count": 46
        },
        {
          "output_type": "display_data",
          "data": {
            "image/png": "[encoded data removed]",
            "text/plain": [
              "<Figure size 432x288 with 1 Axes>"
            ]
          },
          "metadata": {
            "tags": []
          }
        }
      ]
    },
    {
      "cell_type": "code",
      "metadata": {
        "id": "tKKgV2Jtk0PO",
        "colab_type": "code",
        "colab": {
          "base_uri": "https://localhost:8080/",
          "height": 282
        },
        "outputId": "2d9eaf5d-c20f-43f9-fdcb-a5976dcaa80b"
      },
      "source": [
        "plt.scatter(y_test,prediction)"
      ],
      "execution_count": 47,
      "outputs": [
        {
          "output_type": "execute_result",
          "data": {
            "text/plain": [
              "<matplotlib.collections.PathCollection at 0x7f5a242be7b8>"
            ]
          },
          "metadata": {
            "tags": []
          },
          "execution_count": 47
        },
        {
          "output_type": "display_data",
          "data": {
            "image/png": "[encoded data removed]",
            "text/plain": [
              "<Figure size 432x288 with 1 Axes>"
            ]
          },
          "metadata": {
            "tags": []
          }
        }
      ]
    },
    {
      "cell_type": "code",
      "metadata": {
        "id": "igifW5i6k7yn",
        "colab_type": "code",
        "colab": {
          "base_uri": "https://localhost:8080/",
          "height": 67
        },
        "outputId": "8ad7a469-853b-4f8c-c41e-c608ce10a62f"
      },
      "source": [
        "from sklearn.metrics import mean_squared_error,mean_absolute_error\n",
        "mae = mean_absolute_error(y_test,prediction)\n",
        "mse = mean_squared_error(y_test,prediction)\n",
        "rmse = np.sqrt(mse)\n",
        "print(\"Mean Absolute Error {}\".format(mae))\n",
        "print(\"Mean Aquared Error {}\".format(mse))\n",
        "print(\"Roor Mean Squared Error {}\".format(rmse))"
      ],
      "execution_count": 50,
      "outputs": [
        {
          "output_type": "stream",
          "text": [
            "Mean Absolute Error 35.48755292601106\n",
            "Mean Aquared Error 2270.4102098465796\n",
            "Roor Mean Squared Error 47.64882170470304\n"
          ],
          "name": "stdout"
        }
      ]
    },
    {
      "cell_type": "code",
      "metadata": {
        "id": "R2M4-Kfdlp7M",
        "colab_type": "code",
        "colab": {}
      },
      "source": [
        "import pickle\n",
        "file = open(\"Lasso_regression_model.pkl\",\"wb\")\n",
        "\n",
        "pickle.dump(lass_reg_model,file)"
      ],
      "execution_count": 0,
      "outputs": []
    },
    {
      "cell_type": "code",
      "metadata": {
        "id": "nfT42IOpmC2c",
        "colab_type": "code",
        "colab": {}
      },
      "source": [
        ""
      ],
      "execution_count": 0,
      "outputs": []
    }
  ]
}