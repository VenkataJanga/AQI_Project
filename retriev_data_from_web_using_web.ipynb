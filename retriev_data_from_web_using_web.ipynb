{
  "nbformat": 4,
  "nbformat_minor": 0,
  "metadata": {
    "colab": {
      "name": "retriev_data_from_web_using_web",
      "provenance": [],
      "collapsed_sections": [],
      "include_colab_link": true
    },
    "kernelspec": {
      "name": "python3",
      "display_name": "Python 3"
    }
  },
  "cells": [
    {
      "cell_type": "markdown",
      "metadata": {
        "id": "view-in-github",
        "colab_type": "text"
      },
      "source": [
        "<a href=\"https://colab.research.google.com/github/VenkataJanga/AQI_Project/blob/master/retriev_data_from_web_using_web.ipynb\" target=\"_parent\"><img src=\"https://colab.research.google.com/assets/colab-badge.svg\" alt=\"Open In Colab\"/></a>"
      ]
    },
    {
      "cell_type": "code",
      "metadata": {
        "id": "uT9kWF_9iLg6",
        "colab_type": "code",
        "colab": {}
      },
      "source": [
        "import os\n",
        "import time\n",
        "import requests\n",
        "import sys"
      ],
      "execution_count": 0,
      "outputs": []
    },
    {
      "cell_type": "code",
      "metadata": {
        "id": "KWM0me8eiVMu",
        "colab_type": "code",
        "colab": {}
      },
      "source": [
        "def retriev_data_from_web_using_webScrapping():\n",
        "  for year in range(2013,2019):\n",
        "    for month in range(1,13):\n",
        "      if month < 10 :\n",
        "        url = 'http://en.tutiempo.net/climate/0{}-{}/ws-421820.html'.format(month,year)\n",
        "      else:\n",
        "        url = 'http://en.tutiempo.net/climate/{}-{}/ws-421820.html'.format(month,year)\n",
        "      source_text = requests.get(url)\n",
        "      text_utf = source_text.text.encode(\"utf=8\")\n",
        "      if not os.path.exists(\"Data/Html_Data/{}\".format(year)):\n",
        "        os.makedirs(\"Data/Html_Data/{}\".format(year))\n",
        "      \n",
        "      with open(\"Data/Html_Data/{}/{}\".format(year,month),\"wb\") as output:\n",
        "        output.write(text_utf)\n",
        "    sys.stdout.flush()"
      ],
      "execution_count": 0,
      "outputs": []
    },
    {
      "cell_type": "code",
      "metadata": {
        "id": "X-JaXNE_kjWe",
        "colab_type": "code",
        "colab": {
          "base_uri": "https://localhost:8080/",
          "height": 34
        },
        "outputId": "6faa9f13-e753-4b9c-e566-37b0742d51a2"
      },
      "source": [
        "if __name__==\"__main__\":\n",
        "  start_time = time.time()\n",
        "  retriev_data_from_web_using_webScrapping()\n",
        "  stop_time = time.time()\n",
        "  print(\"Time taken {}\".format(stop_time - start_time))\n"
      ],
      "execution_count": 9,
      "outputs": [
        {
          "output_type": "stream",
          "text": [
            "Time taken 21.35332989692688\n"
          ],
          "name": "stdout"
        }
      ]
    },
    {
      "cell_type": "code",
      "metadata": {
        "id": "9KggH6s5jNS4",
        "colab_type": "code",
        "colab": {}
      },
      "source": [
        "      \n"
      ],
      "execution_count": 0,
      "outputs": []
    },
    {
      "cell_type": "code",
      "metadata": {
        "id": "3jv8TKSjjjw6",
        "colab_type": "code",
        "colab": {}
      },
      "source": [
        ""
      ],
      "execution_count": 0,
      "outputs": []
    }
  ]
}